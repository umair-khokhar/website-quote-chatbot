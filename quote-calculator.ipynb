{
 "cells": [
  {
   "cell_type": "markdown",
   "id": "94eaecaf-c006-4d3c-b0cc-5707cde2b7df",
   "metadata": {},
   "source": [
    "# Quote Calculator Using OpenAI (Chatbot)"
   ]
  },
  {
   "cell_type": "markdown",
   "id": "723be956-f12d-4a56-8c5f-5ca4f927198b",
   "metadata": {},
   "source": [
    "## Preparing Data"
   ]
  },
  {
   "cell_type": "markdown",
   "id": "092a9a89-c1a2-44b4-92f9-558639177d3e",
   "metadata": {},
   "source": [
    "Creating a synthetic prompts data set for validation and training."
   ]
  },
  {
   "cell_type": "code",
   "execution_count": 1,
   "id": "5522df6e-2744-45a9-bb9c-b669f69340f0",
   "metadata": {},
   "outputs": [],
   "source": [
    "training_data_template = [\n",
    "    {\n",
    "        'prompt': '!pn page!pp ->', \n",
    "        'completion' : ' A !pn page!pp website will cost you around $!wc. It can build in !wt day!dp #'\n",
    "    },\n",
    "    {\n",
    "        'prompt': 'How much a website that consisits of !pn page!pp cost? ->', \n",
    "        'completion' : ' A !pn page!pp website will cost you around $!wc. It can build in !wt day!dp #'\n",
    "    },\n",
    "    {\n",
    "        'prompt': 'Can you share a quote and timeline for a website of !pn page!pp? ->', \n",
    "        'completion' : ' A !pn page!pp website will cost you around $!wc. It can build in !wt day!dp #'\n",
    "    },\n",
    "    {\n",
    "        'prompt': 'Wondering how much a website of !pn page!pp cost? ->', \n",
    "        'completion' : ' A !pn page!pp website will cost you around $!wc. It can build in !wt day!dp #'\n",
    "    },\n",
    "    {\n",
    "        'prompt': 'Can you guys build a website for us? The website has !pn page!pp ->', \n",
    "        'completion' : ' Yes we can surely, help you with that! A !pn page!pp website will cost you around $!wc. It can build in !wt day!dp #'\n",
    "    },\n",
    "    \n",
    "]"
   ]
  },
  {
   "cell_type": "code",
   "execution_count": 3,
   "id": "28b9693d-4fc5-49fa-836c-8bd88ee9fed5",
   "metadata": {},
   "outputs": [],
   "source": [
    "import nltk, random\n",
    "\n",
    "training_data = []\n",
    "for i in range(500):\n",
    "    prompt = {}\n",
    "    \n",
    "    plural_pages = 's' if (i + 1) > 1 else ''\n",
    "    index = random.randint(0, 4)\n",
    "    prompt['prompt'] = training_data_template[index]['prompt']\\\n",
    "                        .replace('!pn', str(i + 1))\\\n",
    "                        .replace('!pp', plural_pages)\n",
    "    \n",
    "    days_for_prompt = 2 * (i + 1)\n",
    "    plural_days = 's' if (days_for_prompt) > 1 else ''\n",
    "    prompt['completion'] = training_data_template[index]['completion']\\\n",
    "                            .replace('!pn', str(i + 1))\\\n",
    "                            .replace('!wc', str(1000 * (i + 1)))\\\n",
    "                            .replace('!wt', str(2 * (i + 1)))\\\n",
    "                            .replace('!wt', str(2 * (i + 1)))\\\n",
    "                            .replace('!dp', plural_days)\\\n",
    "                            .replace('!pp', plural_pages)\n",
    "    \n",
    "    token_count = nltk.word_tokenize(prompt['prompt'] + prompt['completion'] )\n",
    "\n",
    "    prompt['tokens'] = len(token_count)\n",
    "    training_data.append(prompt)\n",
    "\n",
    "validation_data = []\n",
    "for i in range(500, 1000):\n",
    "    prompt = {}\n",
    "    index = random.randint(0, 4)\n",
    "    plural_pages = 's' if (i + 1) > 1 else ''\n",
    "    prompt['prompt'] = training_data_template[index]['prompt']\\\n",
    "                        .replace('!pn', str(i + 1))\\\n",
    "                        .replace('!pp', plural_pages)\n",
    "    \n",
    "    days_for_prompt = 2 * (i + 1)\n",
    "    plural_days = 's' if (days_for_prompt) > 1 else ''\n",
    "    prompt['completion'] = training_data_template[index]['completion']\\\n",
    "                            .replace('!pn', str(i + 1))\\\n",
    "                            .replace('!wc', str(1000 * (i + 1)))\\\n",
    "                            .replace('!wt', str(2 * (i + 1)))\\\n",
    "                            .replace('!wt', str(2 * (i + 1)))\\\n",
    "                            .replace('!dp', plural_days)\\\n",
    "                            .replace('!pp', plural_pages)\n",
    "\n",
    "    validation_data.append(prompt)\n",
    "\n"
   ]
  },
  {
   "cell_type": "markdown",
   "id": "55d8f11e-f11c-4a26-8b12-9d91bad995d5",
   "metadata": {},
   "source": [
    "## Exploring Data"
   ]
  },
  {
   "cell_type": "code",
   "execution_count": 4,
   "id": "fdbc9425-6ff6-4fe5-988b-530cbce76746",
   "metadata": {},
   "outputs": [
    {
     "data": {
      "image/png": "[encoded data removed]",
      "text/plain": [
       "<Figure size 432x288 with 1 Axes>"
      ]
     },
     "metadata": {
      "needs_background": "light"
     },
     "output_type": "display_data"
    }
   ],
   "source": [
    "import pandas as pd\n",
    "from matplotlib import pyplot as plt\n",
    "\n",
    "df = pd.DataFrame(training_data)\n",
    "df.head()\n",
    "\n",
    "\n",
    "df[['tokens']].hist()\n",
    "# add axis descriptions and title\n",
    "plt.xlabel('Number of tokens')\n",
    "plt.ylabel('Number of prompts')\n",
    "plt.title('Distribution of number of tokens in synthetic dataset')\n",
    "plt.show()\n",
    "\n",
    "\n",
    "trainig_data_final = [{k: v for k, v in d.items() if k != 'tokens'} for d in training_data]\n"
   ]
  },
  {
   "cell_type": "markdown",
   "id": "f6ac422e-4298-4953-91f9-0127580c24db",
   "metadata": {},
   "source": [
    "As you can see the majority of the prompts have between 25 to 35 tokens"
   ]
  },
  {
   "cell_type": "markdown",
   "id": "ed127079-50b7-44c1-b3de-f36a0262ad13",
   "metadata": {},
   "source": [
    "## Fine-tuning the Model"
   ]
  },
  {
   "cell_type": "markdown",
   "id": "f7112d08-4531-4677-a9f3-fbd18bf1bed9",
   "metadata": {},
   "source": [
    "### Preparing and Validating the Training and Validation data files"
   ]
  },
  {
   "cell_type": "code",
   "execution_count": 95,
   "id": "cf4fcda6-a27e-4ba3-9aab-d3bc5f67ad4e",
   "metadata": {},
   "outputs": [
    {
     "name": "stdout",
     "output_type": "stream",
     "text": [
      "Requirement already satisfied: openai in /Users/umairkh/opt/anaconda3/lib/python3.9/site-packages (0.27.8)\n",
      "Requirement already satisfied: tqdm in /Users/umairkh/opt/anaconda3/lib/python3.9/site-packages (from openai) (4.62.3)\n",
      "Requirement already satisfied: requests>=2.20 in /Users/umairkh/opt/anaconda3/lib/python3.9/site-packages (from openai) (2.26.0)\n",
      "Requirement already satisfied: aiohttp in /Users/umairkh/opt/anaconda3/lib/python3.9/site-packages (from openai) (3.8.5)\n",
      "Requirement already satisfied: urllib3<1.27,>=1.21.1 in /Users/umairkh/opt/anaconda3/lib/python3.9/site-packages (from requests>=2.20->openai) (1.26.7)\n",
      "Requirement already satisfied: certifi>=2017.4.17 in /Users/umairkh/opt/anaconda3/lib/python3.9/site-packages (from requests>=2.20->openai) (2021.10.8)\n",
      "Requirement already satisfied: charset-normalizer~=2.0.0 in /Users/umairkh/opt/anaconda3/lib/python3.9/site-packages (from requests>=2.20->openai) (2.0.4)\n",
      "Requirement already satisfied: idna<4,>=2.5 in /Users/umairkh/opt/anaconda3/lib/python3.9/site-packages (from requests>=2.20->openai) (3.2)\n",
      "Requirement already satisfied: yarl<2.0,>=1.0 in /Users/umairkh/opt/anaconda3/lib/python3.9/site-packages (from aiohttp->openai) (1.9.2)\n",
      "Requirement already satisfied: frozenlist>=1.1.1 in /Users/umairkh/opt/anaconda3/lib/python3.9/site-packages (from aiohttp->openai) (1.4.0)\n",
      "Requirement already satisfied: async-timeout<5.0,>=4.0.0a3 in /Users/umairkh/opt/anaconda3/lib/python3.9/site-packages (from aiohttp->openai) (4.0.2)\n",
      "Requirement already satisfied: multidict<7.0,>=4.5 in /Users/umairkh/opt/anaconda3/lib/python3.9/site-packages (from aiohttp->openai) (6.0.4)\n",
      "Requirement already satisfied: attrs>=17.3.0 in /Users/umairkh/opt/anaconda3/lib/python3.9/site-packages (from aiohttp->openai) (21.2.0)\n",
      "Requirement already satisfied: aiosignal>=1.1.2 in /Users/umairkh/opt/anaconda3/lib/python3.9/site-packages (from aiohttp->openai) (1.3.1)\n"
     ]
    }
   ],
   "source": [
    "!pip install openai"
   ]
  },
  {
   "cell_type": "code",
   "execution_count": 24,
   "id": "3eb210a3-7421-4843-ba53-68f5a1f94d4c",
   "metadata": {},
   "outputs": [],
   "source": [
    "import json\n",
    "\n",
    "training_file_name = \"training_data.jsonl\"\n",
    "validation_file_name = \"validation_data.jsonl\"\n",
    "\n",
    "def prepare_data(dictionary_data, final_file_name):\n",
    "    with open(final_file_name, 'w') as outfile:\n",
    "        for entry in dictionary_data:\n",
    "            json.dump(entry, outfile)\n",
    "            outfile.write('\\n')\n",
    "\n",
    "prepare_data(trainig_data_final, \"training_data.jsonl\")\n",
    "prepare_data(validation_data, \"validation_data.jsonl\")"
   ]
  },
  {
   "cell_type": "code",
   "execution_count": 25,
   "id": "b1d1da2f-7b09-4867-bb5c-7c5bc754ed42",
   "metadata": {},
   "outputs": [
    {
     "name": "stdout",
     "output_type": "stream",
     "text": [
      "Analyzing...\n",
      "\n",
      "- Your file contains 500 prompt-completion pairs\n",
      "- All prompts end with suffix ` ->`\n",
      "- All completions end with suffix ` days #`\n",
      "\n",
      "No remediations found.\n",
      "\n",
      "You can use your file for fine-tuning:\n",
      "> openai api fine_tunes.create -t \"training_data.jsonl\"\n",
      "\n",
      "After you’ve fine-tuned a model, remember that your prompt has to end with the indicator string ` ->` for the model to start generating completions, rather than continuing with the prompt. Make sure to include `stop=[\" days #\"]` so that the generated texts ends at the expected place.\n",
      "Once your model starts training, it'll approximately take 9.31 minutes to train a `curie` model, and less for `ada` and `babbage`. Queue will approximately take half an hour per job ahead of you.\n",
      "Analyzing...\n",
      "\n",
      "- Your file contains 500 prompt-completion pairs\n",
      "- All prompts end with suffix ` ->`\n",
      "- All completions end with suffix ` days #`\n",
      "\n",
      "No remediations found.\n",
      "\n",
      "You can use your file for fine-tuning:\n",
      "> openai api fine_tunes.create -t \"validation_data.jsonl\"\n",
      "\n",
      "After you’ve fine-tuned a model, remember that your prompt has to end with the indicator string ` ->` for the model to start generating completions, rather than continuing with the prompt. Make sure to include `stop=[\" days #\"]` so that the generated texts ends at the expected place.\n",
      "Once your model starts training, it'll approximately take 9.31 minutes to train a `curie` model, and less for `ada` and `babbage`. Queue will approximately take half an hour per job ahead of you.\n"
     ]
    }
   ],
   "source": [
    "!openai tools fine_tunes.prepare_data -f \"training_data.jsonl\"\n",
    "!openai tools fine_tunes.prepare_data -f \"validation_data.jsonl\""
   ]
  },
  {
   "cell_type": "markdown",
   "id": "6be5f6e0-fb0c-4254-9a15-46e26b20267a",
   "metadata": {},
   "source": [
    "**OpenAI is satisfied with the data.**"
   ]
  },
  {
   "cell_type": "markdown",
   "id": "5b036e46-4db0-4c42-a768-4192c20f05f1",
   "metadata": {
    "tags": []
   },
   "source": [
    "### Fine-tune job"
   ]
  },
  {
   "cell_type": "code",
   "execution_count": null,
   "id": "64b096b5-a819-4ccc-a9ee-bf19b8406024",
   "metadata": {},
   "outputs": [],
   "source": [
    "!openai api fine_tunes.create -t training_data.jsonl \\\n",
    "    -v validation_data.jsonl \\\n",
    "    -m babbage \\\n",
    "    --n_epochs 15 \\\n",
    "    --batch_size 3 \\\n",
    "    --learning_rate_multiplier 0.3"
   ]
  },
  {
   "cell_type": "code",
   "execution_count": null,
   "id": "6647a837-2e1e-4ba1-ad13-ae3a8f22a6fe",
   "metadata": {},
   "outputs": [],
   "source": [
    "!openai api fine_tunes.get -i ft-kDQkbgb8r3XNE9mp6UrNbl85"
   ]
  },
  {
   "cell_type": "markdown",
   "id": "aab0d223-16a2-44dd-aba1-fccda6744258",
   "metadata": {},
   "source": [
    "## Evaluating Inference Results"
   ]
  },
  {
   "cell_type": "code",
   "execution_count": 14,
   "id": "96b873ef-2dcf-475f-8983-e6eb3f339659",
   "metadata": {},
   "outputs": [
    {
     "name": "stdout",
     "output_type": "stream",
     "text": [
      "What is the cost of 10 page website? -> A 10 page website will cost you around $10000. It can build in 20"
     ]
    }
   ],
   "source": [
    "!openai api completions.create -m babbage:ft-personal-2023-08-02-23-37-50 -p 'What is the cost of 10 page website? ->'"
   ]
  },
  {
   "cell_type": "markdown",
   "id": "de71aac9-10df-4ac1-967f-1f179fc0c405",
   "metadata": {},
   "source": [
    "### Relevance Score"
   ]
  },
  {
   "cell_type": "code",
   "execution_count": 16,
   "id": "27a8112d-f3e7-4de0-a2c5-457bf8190191",
   "metadata": {},
   "outputs": [
    {
     "name": "stdout",
     "output_type": "stream",
     "text": [
      "[{'object': 'search_result', 'document': 0, 'score': 81.088}, {'object': 'search_result', 'document': 1, 'score': 27.858}, {'object': 'search_result', 'document': 2, 'score': -80.206}, {'object': 'search_result', 'document': 3, 'score': 103.04}]\n"
     ]
    }
   ],
   "source": [
    "import openai\n",
    "\n",
    "docs = [\"Wondering how much a website of 1 page cost?\", \"How much a website that consisits of 4 pages cost?\", \"Can you guys build a website for us? The website has 509 pages\", \"Can you share a quote and timeline for a website of 572 pages?\"]\n",
    "query = \"500 page website quote?\"\n",
    "\n",
    "\n",
    "def construct_context(query, document):\n",
    "    return \"<|endoftext|>{document}\\n\\n---\\n\\nThe above passage is related to: {query}\".format(\n",
    "        document=document, query=query\n",
    "    )\n",
    "\n",
    "\n",
    "def get_score(context, query, log_probs, text_offsets) -> float:\n",
    "    SCORE_MULTIPLIER = 100.0\n",
    "\n",
    "    log_prob = 0\n",
    "    count = 0\n",
    "    cutoff = len(context) - len(query)\n",
    "\n",
    "    for i in range(len(text_offsets) - 1, 0, -1):\n",
    "        log_prob += log_probs[i]\n",
    "        count += 1\n",
    "\n",
    "        if text_offsets[i] <= cutoff and text_offsets[i] != text_offsets[i - 1]:\n",
    "            break\n",
    "\n",
    "    return log_prob / float(count) * SCORE_MULTIPLIER\n",
    "\n",
    "\n",
    "def search(query, documents, engine):\n",
    "\n",
    "    prompts = [construct_context(query, doc) for doc in [\"\"] + documents]\n",
    "    # print(prompts)\n",
    "    resps = openai.Completion.create(\n",
    "        model=engine,\n",
    "        prompt=prompts,\n",
    "        temperature=1.0,\n",
    "        top_p=1.0,\n",
    "        max_tokens=0,\n",
    "        logprobs=0,\n",
    "        n=1,\n",
    "        echo=True,\n",
    "    )\n",
    "\n",
    "    resps_by_index = {choice[\"index\"]: choice for choice in resps[\"choices\"]}\n",
    "    \n",
    "    #for i in range(len(resps_by_index)):\n",
    "        #print(resps_by_index[i]['text'] )\n",
    "    \n",
    "    scores = [\n",
    "        get_score(\n",
    "            prompts[i],\n",
    "            query,\n",
    "            resps_by_index[i][\"logprobs\"][\"token_logprobs\"],\n",
    "            resps_by_index[i][\"logprobs\"][\"text_offset\"],\n",
    "        )\n",
    "        for i in range(len(prompts))\n",
    "    ]\n",
    "\n",
    "    # Process results\n",
    "    scores = [score - scores[0] for score in scores][1:]\n",
    "\n",
    "    return [\n",
    "        {\n",
    "            \"object\": \"search_result\",\n",
    "            \"document\": document_idx,\n",
    "            \"score\": round(score, 3),\n",
    "        }\n",
    "        for document_idx, score in enumerate(scores)\n",
    "    ]\n",
    "\n",
    "\n",
    "print(search(query=query, documents=docs, engine=\"babbage:ft-personal-2023-08-02-23-37-50\"))"
   ]
  },
  {
   "cell_type": "markdown",
   "id": "5217fd71-d4a2-4444-b99a-c9b888d416cc",
   "metadata": {},
   "source": [
    "**You can see above that the model was able to recognize the context correctly.**"
   ]
  },
  {
   "cell_type": "markdown",
   "id": "d77bcd3b-4358-484e-9aea-0587cce8be03",
   "metadata": {},
   "source": [
    "### Evaluation metric for the fine-tuned model"
   ]
  },
  {
   "cell_type": "code",
   "execution_count": 21,
   "id": "202b6b69-02b4-487b-94ae-432b87c72e02",
   "metadata": {},
   "outputs": [],
   "source": [
    "!openai api fine_tunes.results -i ft-kDQkbgb8r3XNE9mp6UrNbl85 > result.csv"
   ]
  },
  {
   "cell_type": "markdown",
   "id": "a07bb53c-4a87-4629-8b49-a081433b833a",
   "metadata": {},
   "source": [
    "## Testing the model"
   ]
  },
  {
   "cell_type": "code",
   "execution_count": 13,
   "id": "d2679d20-3e43-4852-807a-99407e609963",
   "metadata": {},
   "outputs": [
    {
     "data": {
      "text/plain": [
       "' A 4 page website will cost you around $4000'"
      ]
     },
     "execution_count": 13,
     "metadata": {},
     "output_type": "execute_result"
    }
   ],
   "source": [
    "answer = openai.Completion.create(\n",
    "  model=\"babbage:ft-personal-2023-08-02-23-37-50\",\n",
    "  prompt=\"share the cost of 4 page website ->\",\n",
    "  max_tokens=10, # Change amount of tokens for longer completion\n",
    "  temperature=0\n",
    ")\n",
    "answer['choices'][0]['text']"
   ]
  },
  {
   "cell_type": "markdown",
   "id": "e218a35a-190c-4f51-b6ec-26bc394b589d",
   "metadata": {},
   "source": [
    "**The model gave the correct result!!!!**"
   ]
  }
 ],
 "metadata": {
  "kernelspec": {
   "display_name": "Python 3 (ipykernel)",
   "language": "python",
   "name": "python3"
  },
  "language_info": {
   "codemirror_mode": {
    "name": "ipython",
    "version": 3
   },
   "file_extension": ".py",
   "mimetype": "text/x-python",
   "name": "python",
   "nbconvert_exporter": "python",
   "pygments_lexer": "ipython3",
   "version": "3.9.7"
  }
 },
 "nbformat": 4,
 "nbformat_minor": 5
}
